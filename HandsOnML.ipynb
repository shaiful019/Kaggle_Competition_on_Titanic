{
  "nbformat": 4,
  "nbformat_minor": 0,
  "metadata": {
    "colab": {
      "provenance": []
    },
    "kernelspec": {
      "name": "python3",
      "display_name": "Python 3"
    },
    "language_info": {
      "name": "python"
    }
  },
  "cells": [
    {
      "cell_type": "markdown",
      "source": [
        "## Table of Contents\n",
        "\n",
        "1. [Problem Statement](#section1)<br>\n",
        "2. [Data Loading and Description](#section2)\n",
        "3. [Naive Submission 1](#section3)\n",
        "4. [Machine learning Pipeline](#section4)\n",
        "5. [Naive Submission 2](#section5)\n",
        "6. [EDA Preprocessing](#section6)\n",
        "7. [Model Training](#section7)\n",
        "5. [Model evaluation](#section5)<br>\n",
        "    - 5.1 [Model Evaluation using accuracy score](#section501)<br>\n",
        "    - 5.2 [Model Evaluation using confusion matrix](#section502)<br>\n",
        "6. [Decision Tree with Gridsearch](#section6)<br>"
      ],
      "metadata": {
        "id": "hum2pcIBoI2o"
      }
    },
    {
      "cell_type": "code",
      "execution_count": 6,
      "metadata": {
        "colab": {
          "base_uri": "https://localhost:8080/"
        },
        "id": "1e2uh9WMkLQA",
        "outputId": "9cd6fa7c-92f5-489f-a6a3-249d79e40e4d"
      },
      "outputs": [
        {
          "output_type": "stream",
          "name": "stdout",
          "text": [
            "Archive:  /content/drive/MyDrive/Mentoring/BDAIO/Session_DU/titanic.zip\n",
            "  inflating: /content/datasets/gender_submission.csv  \n",
            "  inflating: /content/datasets/test.csv  \n",
            "  inflating: /content/datasets/train.csv  \n"
          ]
        }
      ],
      "source": [
        "\n",
        "!unzip /content/drive/MyDrive/Mentoring/BDAIO/Session_DU/titanic.zip -d /content/datasets\n"
      ]
    },
    {
      "cell_type": "code",
      "source": [
        "\n",
        "import pandas as pd\n",
        "\n",
        "train = pd.read_csv('datasets/train.csv')\n",
        "test = pd.read_csv('datasets/test.csv')"
      ],
      "metadata": {
        "id": "uI-H7RFyk4oI"
      },
      "execution_count": 7,
      "outputs": []
    },
    {
      "cell_type": "code",
      "source": [],
      "metadata": {
        "id": "aybUDD9ZxdvP"
      },
      "execution_count": null,
      "outputs": []
    }
  ]
}